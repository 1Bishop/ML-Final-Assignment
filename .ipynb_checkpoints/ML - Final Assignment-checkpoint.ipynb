{
 "cells": [
  {
   "cell_type": "markdown",
   "metadata": {},
   "source": [
    "# ML - Final Assignment\n",
    "#### By Christopher Bishop (#500791964), Paul Boutot (#XXXXXXXXX) & Joseph Grgic (#XXXXXXXXX)\n",
    "\n",
    "\n",
    "# Project Description\n",
    "This project is about categrozing food images similair to that of assignment 2. Inspired by the [SeeFood App in the show Sillicon Valley](https://www.youtube.com/watch?v=vIci3C4JkL0), we hope to do better than Jian Yang and not just identify if Hotdog or Not Hotdog, we want to correctly identefy each type of the over 100 foods in the data set.  "
   ]
  },
  {
   "cell_type": "markdown",
   "metadata": {},
   "source": [
    "# Import Packages"
   ]
  },
  {
   "cell_type": "code",
   "execution_count": 27,
   "metadata": {},
   "outputs": [],
   "source": [
    "import h5py\n",
    "import os\n",
    "import matplotlib.pyplot as plt\n",
    "import numpy as np\n",
    "import h5py"
   ]
  },
  {
   "cell_type": "markdown",
   "metadata": {},
   "source": [
    "# Setup Datasets"
   ]
  },
  {
   "cell_type": "code",
   "execution_count": 28,
   "metadata": {},
   "outputs": [
    {
     "name": "stdout",
     "output_type": "stream",
     "text": [
      "Training image size:  (10099, 32, 32, 1)\n",
      "Testing image size:  (1000, 32, 32, 1)\n",
      "Training X Data:  (10099, 101)\n",
      "Testing X Data:  (1000, 101)\n",
      "Number of Labels (Y Data):  101\n"
     ]
    }
   ],
   "source": [
    "# Can also use food_c101_n10099_r64x64x3.h5 if we want a bigger data set\n",
    "training_path = os.path.join('..', 'data', 'food_c101_n10099_r32x32x1.h5')\n",
    "testing_path = os.path.join('..', 'data', 'food_test_c101_n1000_r32x32x1.h5')\n",
    "\n",
    "h5f_training = h5py.File(training_path, 'r')\n",
    "h5f_testing = h5py.File(testing_path, 'r')\n",
    "print('Training image size: ', h5f_training['images'].shape)\n",
    "print('Testing image size: ', h5f_testing['images'].shape)\n",
    "\n",
    "# Columns of true or false based on label \n",
    "# Think Emotions True and False Matrix from A2\n",
    "x_training = h5f_training['category'].value\n",
    "x_testing = h5f_testing['category'].value\n",
    "\n",
    "print(\"Training X Data: \", x_training.shape)\n",
    "print(\"Testing X Data: \", x_testing.shape)\n",
    "\n",
    "# List of all Labels in the data (ie Apple Pie, Donuts, Pizza, Waffles...)\n",
    "labels = []\n",
    "for label in h5f_training['category_names'][:]:\n",
    "    labels.append(label.decode())\n",
    "print(\"Number of Labels (Y Data): \", len(labels))\n",
    "\n"
   ]
  },
  {
   "cell_type": "code",
   "execution_count": null,
   "metadata": {},
   "outputs": [],
   "source": []
  }
 ],
 "metadata": {
  "kernelspec": {
   "display_name": "Python 3",
   "language": "python",
   "name": "python3"
  },
  "language_info": {
   "codemirror_mode": {
    "name": "ipython",
    "version": 3
   },
   "file_extension": ".py",
   "mimetype": "text/x-python",
   "name": "python",
   "nbconvert_exporter": "python",
   "pygments_lexer": "ipython3",
   "version": "3.7.3"
  }
 },
 "nbformat": 4,
 "nbformat_minor": 2
}
