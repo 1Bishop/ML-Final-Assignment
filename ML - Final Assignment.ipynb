{
 "cells": [
  {
   "cell_type": "markdown",
   "metadata": {},
   "source": [
    "# ML - Final Assignment\n",
    "\n",
    "This project is about categrozing food images similair to that of assignment 2. "
   ]
  },
  {
   "cell_type": "code",
   "execution_count": 3,
   "metadata": {},
   "outputs": [
    {
     "name": "stdout",
     "output_type": "stream",
     "text": [
      "<HDF5 file \"food_c101_n10099_r32x32x1.h5\" (mode r)>\n"
     ]
    }
   ],
   "source": [
    "import h5py\n",
    "import os\n",
    "import matplotlib.pyplot as plt\n",
    "import numpy as np\n",
    "import h5py\n",
    "\n",
    "# base_path = os.path.join('..', 'data')\n",
    "# train_h5_path = os.path.join(base_path, 'food_c101_n10099_r32x32x1.h5')\n",
    "# test_h5_path = os.path.join(base_path, 'food_test_c101_n1000_r32x32x1.h5')\n",
    "\n",
    "sample_path = os.path.join('..', 'data', 'food_c101_n10099_r32x32x1.h5')\n",
    "h5f = h5py.File(sample_path, 'r')\n",
    "a = h5f['images'][:]\n",
    "print(h5f)\n",
    "\n",
    "\n",
    "# X_train = HDF5Matrix(train_h5_path, 'images')\n",
    "# y_train = HDF5Matrix(train_h5_path, 'category')\n",
    "# print('In Data',X_train.shape,'=>', y_train.shape)"
   ]
  },
  {
   "cell_type": "code",
   "execution_count": null,
   "metadata": {},
   "outputs": [],
   "source": []
  }
 ],
 "metadata": {
  "kernelspec": {
   "display_name": "Python 3",
   "language": "python",
   "name": "python3"
  },
  "language_info": {
   "codemirror_mode": {
    "name": "ipython",
    "version": 3
   },
   "file_extension": ".py",
   "mimetype": "text/x-python",
   "name": "python",
   "nbconvert_exporter": "python",
   "pygments_lexer": "ipython3",
   "version": "3.7.3"
  }
 },
 "nbformat": 4,
 "nbformat_minor": 2
}
